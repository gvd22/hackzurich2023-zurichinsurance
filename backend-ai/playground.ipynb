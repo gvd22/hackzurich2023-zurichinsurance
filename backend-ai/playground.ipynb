{
 "cells": [
  {
   "cell_type": "code",
   "execution_count": 1,
   "metadata": {},
   "outputs": [
    {
     "name": "stdout",
     "output_type": "stream",
     "text": [
      "Requirement already satisfied: pypdf in ./env/lib/python3.8/site-packages (3.16.0)\n",
      "Requirement already satisfied: typing_extensions>=3.7.4.3; python_version < \"3.10\" in ./env/lib/python3.8/site-packages (from pypdf) (4.7.1)\n"
     ]
    }
   ],
   "source": [
    "!pip install pypdf"
   ]
  },
  {
   "cell_type": "code",
   "execution_count": 6,
   "metadata": {},
   "outputs": [],
   "source": [
    "import logging\n",
    "import sys\n",
    "from IPython.display import Markdown, display\n",
    "\n",
    "\n",
    "logging.basicConfig(stream=sys.stdout, level=logging.INFO)\n",
    "logging.getLogger().addHandler(logging.StreamHandler(stream=sys.stdout))"
   ]
  },
  {
   "cell_type": "code",
   "execution_count": 4,
   "metadata": {},
   "outputs": [
    {
     "name": "stderr",
     "output_type": "stream",
     "text": [
      "[nltk_data] Downloading package punkt to /tmp/llama_index...\n",
      "[nltk_data]   Unzipping tokenizers/punkt.zip.\n"
     ]
    }
   ],
   "source": [
    "from llama_index import VectorStoreIndex, SimpleDirectoryReader\n",
    "\n",
    "documents = SimpleDirectoryReader('data/Relax assistance', recursive=True).load_data()\n",
    "index = VectorStoreIndex.from_documents(documents)"
   ]
  },
  {
   "cell_type": "code",
   "execution_count": 12,
   "metadata": {},
   "outputs": [
    {
     "name": "stdout",
     "output_type": "stream",
     "text": [
      "DEBUG:openai:message='Request to OpenAI API' method=post path=https://api.openai.com/v1/embeddings\n",
      "message='Request to OpenAI API' method=post path=https://api.openai.com/v1/embeddings\n",
      "message='Request to OpenAI API' method=post path=https://api.openai.com/v1/embeddings\n",
      "DEBUG:openai:api_version=None data='{\"input\": [\"When are cancelation cost due?\"], \"model\": \"text-embedding-ada-002\", \"encoding_format\": \"base64\"}' message='Post details'\n",
      "api_version=None data='{\"input\": [\"When are cancelation cost due?\"], \"model\": \"text-embedding-ada-002\", \"encoding_format\": \"base64\"}' message='Post details'\n",
      "api_version=None data='{\"input\": [\"When are cancelation cost due?\"], \"model\": \"text-embedding-ada-002\", \"encoding_format\": \"base64\"}' message='Post details'\n",
      "DEBUG:urllib3.util.retry:Converted retries value: 2 -> Retry(total=2, connect=None, read=None, redirect=None, status=None)\n",
      "Converted retries value: 2 -> Retry(total=2, connect=None, read=None, redirect=None, status=None)\n",
      "Converted retries value: 2 -> Retry(total=2, connect=None, read=None, redirect=None, status=None)\n",
      "DEBUG:urllib3.connectionpool:Starting new HTTPS connection (1): api.openai.com:443\n",
      "Starting new HTTPS connection (1): api.openai.com:443\n",
      "Starting new HTTPS connection (1): api.openai.com:443\n",
      "DEBUG:urllib3.connectionpool:https://api.openai.com:443 \"POST /v1/embeddings HTTP/1.1\" 200 None\n",
      "https://api.openai.com:443 \"POST /v1/embeddings HTTP/1.1\" 200 None\n",
      "https://api.openai.com:443 \"POST /v1/embeddings HTTP/1.1\" 200 None\n",
      "DEBUG:openai:message='OpenAI API response' path=https://api.openai.com/v1/embeddings processing_ms=43 request_id=38c3ba81d9bbc222cf9433e1cf2e37ea response_code=200\n",
      "message='OpenAI API response' path=https://api.openai.com/v1/embeddings processing_ms=43 request_id=38c3ba81d9bbc222cf9433e1cf2e37ea response_code=200\n",
      "message='OpenAI API response' path=https://api.openai.com/v1/embeddings processing_ms=43 request_id=38c3ba81d9bbc222cf9433e1cf2e37ea response_code=200\n",
      "DEBUG:llama_index.indices.utils:> Top 2 nodes:\n",
      "> [Node 12d0b27f-df15-41ba-accc-386806a768c0] [Similarity score:             0.794423] Consequences of delay\n",
      "If\tthe\tPolicyholder\tis\tunable\tto\tmeet\tits\tpayment\tobliga -\n",
      "tions,\ta\tpayment...\n",
      "> [Node 67a03274-aa36-4389-a736-182b148afb3f] [Similarity score:             0.78951] Cancellation Costs\n",
      "Art. 100 \n",
      "Territorial Scope\n",
      "The\tinsurance\tcoverage\tapplies\tworldwide.\n",
      "Art. 101...\n",
      "> Top 2 nodes:\n",
      "> [Node 12d0b27f-df15-41ba-accc-386806a768c0] [Similarity score:             0.794423] Consequences of delay\n",
      "If\tthe\tPolicyholder\tis\tunable\tto\tmeet\tits\tpayment\tobliga -\n",
      "tions,\ta\tpayment...\n",
      "> [Node 67a03274-aa36-4389-a736-182b148afb3f] [Similarity score:             0.78951] Cancellation Costs\n",
      "Art. 100 \n",
      "Territorial Scope\n",
      "The\tinsurance\tcoverage\tapplies\tworldwide.\n",
      "Art. 101...\n",
      "> Top 2 nodes:\n",
      "> [Node 12d0b27f-df15-41ba-accc-386806a768c0] [Similarity score:             0.794423] Consequences of delay\n",
      "If\tthe\tPolicyholder\tis\tunable\tto\tmeet\tits\tpayment\tobliga -\n",
      "tions,\ta\tpayment...\n",
      "> [Node 67a03274-aa36-4389-a736-182b148afb3f] [Similarity score:             0.78951] Cancellation Costs\n",
      "Art. 100 \n",
      "Territorial Scope\n",
      "The\tinsurance\tcoverage\tapplies\tworldwide.\n",
      "Art. 101...\n",
      "DEBUG:openai:message='Request to OpenAI API' method=post path=https://api.openai.com/v1/chat/completions\n",
      "message='Request to OpenAI API' method=post path=https://api.openai.com/v1/chat/completions\n",
      "message='Request to OpenAI API' method=post path=https://api.openai.com/v1/chat/completions\n",
      "DEBUG:openai:api_version=None data='{\"messages\": [{\"role\": \"system\", \"content\": \"You are an expert Q&A system that is trusted around the world.\\\\nAlways answer the query using the provided context information, and not prior knowledge.\\\\nSome rules to follow:\\\\n1. Never directly reference the given context in your answer.\\\\n2. Avoid statements like \\'Based on the context, ...\\' or \\'The context information ...\\' or anything along those lines.\"}, {\"role\": \"user\", \"content\": \"Context information is below.\\\\n---------------------\\\\npage_label: 6\\\\nfile_name: GCI Relax Assistance.pdf\\\\n\\\\nConsequences of delay\\\\nIf\\\\tthe\\\\tPolicyholder\\\\tis\\\\tunable\\\\tto\\\\tmeet\\\\tits\\\\tpayment\\\\tobliga -\\\\ntions,\\\\ta\\\\tpayment\\\\trequest\\\\tshall\\\\tbe\\\\tissued\\\\tand\\\\tthe\\\\tPolicy -\\\\nholder\\\\tshall\\\\tbe\\\\tliable\\\\tfor\\\\tthe\\\\tdunning\\\\tcosts\\\\tand\\\\tinterest\\\\t \\\\nin\\\\tarrears.Art. 5 \\\\nGeneral Exclusions\\\\nThe\\\\tcontract\\\\tdoes\\\\tnot\\\\tprovide\\\\tinsurance\\\\tcoverage\\\\tfor\\\\t\\\\nconsequences\\\\tin\\\\tconnection\\\\twith\\\\tthe\\\\tfollowing:\\\\n\\\\u2022 \\\\tcivil\\\\tunrest\\\\tof\\\\tall\\\\tkinds\\\\tas\\\\twell\\\\tas\\\\tnatural\\\\tand\\\\tenvironmen -\\\\ntal\\\\tdisasters,\\\\tacts\\\\tof\\\\twar\\\\tand\\\\tterrorism.\\\\tExceptions\\\\tfor\\\\t\\\\ncancellation\\\\tcosts\\\\t(Art.\\\\t 102.9\\\\tand\\\\t102.10)\\\\tand\\\\ttravel\\\\tinsur -\\\\nance\\\\t(Art.\\\\t 201.3)\\\\tare\\\\tcircumscribed;\\\\n\\\\u2022 \\\\tnuclear\\\\tfission,\\\\tnuclear\\\\tfusion,\\\\tradioactive\\\\tmaterial,\\\\tradio -\\\\nactive\\\\tcontamination,\\\\tnuclear\\\\texplosive\\\\tdevices\\\\tand\\\\tany\\\\t\\\\ntype\\\\tof\\\\tnuclear\\\\tweapon,\\\\tincluding\\\\tmeasures\\\\ttaken\\\\t\\\\nagainst\\\\tthese;\\\\n\\\\u2022 \\\\tparticipation\\\\tin\\\\traces,\\\\trallies\\\\tor\\\\tsimilar\\\\tcompetitive\\\\traces\\\\t\\\\nor\\\\ttraining\\\\tevents\\\\twith\\\\tmotor\\\\tvehicles,\\\\tsnowmobiles\\\\tor\\\\t\\\\nwatercraft\\\\ton\\\\tclosedoff\\\\tcourses;\\\\n\\\\u2022 \\\\tinsured\\\\tevents\\\\tthat\\\\thad\\\\talready\\\\toccurred\\\\tat\\\\tthe\\\\ttime\\\\tof\\\\t\\\\nbooking,\\\\tsubmission\\\\tof\\\\tapplication\\\\tor\\\\toffer\\\\tor\\\\twhen\\\\t \\\\nthe\\\\tcontract\\\\twas\\\\tconcluded\\\\tor\\\\twhose\\\\toccurrence\\\\twas\\\\t\\\\nforeseeable\\\\tat\\\\tthat\\\\ttime.\\\\tIn\\\\tcase\\\\tof\\\\ta\\\\tchronic\\\\tillness,\\\\t\\\\n\\\\tinsurance\\\\tcoverage\\\\tapplies\\\\tif\\\\tthe\\\\ttrip\\\\thas\\\\tto\\\\tbe\\\\tcanceled\\\\t\\\\ndue\\\\tto\\\\tan\\\\tunexpected\\\\tacute\\\\tworsening\\\\tof\\\\tthe\\\\tcondition\\\\t\\\\nwith\\\\tphysician\\\\tcertification.\\\\tThe\\\\tprerequisite\\\\tfor\\\\tcoverage\\\\t\\\\nis\\\\tthat\\\\tthe\\\\tperson\\\\u2019s\\\\thealth\\\\twas\\\\tstable\\\\tand\\\\the\\\\twas\\\\table\\\\t \\\\nto\\\\ttravel\\\\tat\\\\tthe\\\\ttime\\\\tof\\\\tbooking;\\\\n\\\\u2022 \\\\tbreach\\\\tof\\\\tstatutory\\\\trequirements\\\\t(e.\\\\t g.\\\\twithdrawal\\\\tof\\\\t\\\\n\\\\tdriving\\\\tlicense);\\\\n\\\\u2022 \\\\tcr ime s ;\\\\n\\\\u2022 \\\\tthird-party\\\\tclaims;\\\\n\\\\u2022 \\\\tdeductibles\\\\tfrom\\\\tother\\\\tinsurance\\\\tpolicies.\\\\nArt. 6 \\\\nEvent of a Claim\\\\nZurich\\\\tis\\\\tresponsible\\\\tfor\\\\torganizing\\\\tinsurable\\\\tbenefits.\\\\t \\\\nFor\\\\tnecessary\\\\tassistance\\\\tin\\\\trelation\\\\tto\\\\tclaims\\\\tof\\\\tdamages\\\\t\\\\nor\\\\tevent\\\\tloss,\\\\tZurich\\\\tmust\\\\tbe\\\\tnotified\\\\timmediately:\\\\tTele -\\\\nphone\\\\t0800\\\\t 80\\\\t80\\\\t80\\\\tor\\\\t+44\\\\t 628\\\\t98\\\\t98\\\\twhen\\\\tcalling\\\\tfrom\\\\t\\\\noutside\\\\tSwitzerland.\\\\nIn\\\\tthe\\\\tevent\\\\tof\\\\tlegal\\\\texpenses\\\\tinsurance\\\\tclaims,\\\\tArticles\\\\t\\\\n907\\\\tand\\\\t908\\\\tshall\\\\tapply.\\\\nThe\\\\tinsured\\\\tperson\\\\tis\\\\tobligated\\\\tto\\\\ttake\\\\tthe\\\\tnecessary\\\\t\\\\nmeasures\\\\tto\\\\tmitigate\\\\tlosses\\\\tand\\\\tfollow\\\\tZurich\\\\u2019s\\\\tor\\\\tOrion\\\\u2019s\\\\t\\\\ninstructions.\\\\nAscertaining the facts\\\\nThe\\\\tinsured\\\\tperson\\\\tmust\\\\tcooperate\\\\tin\\\\tinvestigating\\\\tthe\\\\t\\\\nfacts\\\\tand\\\\tprovide\\\\tZurich\\\\tand/or\\\\tOrion\\\\twith\\\\tall\\\\tthe\\\\tneces -\\\\nsary\\\\tinformation\\\\tand\\\\tdocumentation.\\\\tHe\\\\tshall\\\\tobtain\\\\tsuch\\\\t\\\\ninformation\\\\tfrom\\\\tthird\\\\tparties\\\\tfor\\\\tsubmission\\\\tto\\\\tZurich\\\\t \\\\nand/or\\\\tOrion,\\\\tand\\\\tauthorize\\\\tthird\\\\tparties\\\\tin\\\\twriting\\\\tto\\\\tissue\\\\t\\\\nthe\\\\tappropriate\\\\tinformation,\\\\tdocumentation,\\\\tetc.\\\\t to\\\\tZurich\\\\t\\\\nor\\\\tOrion.\\\\n\\\\npage_label: 7\\\\nfile_name: GCI Relax Assistance.pdf\\\\n\\\\nCancellation Costs\\\\nArt. 100 \\\\nTerritorial Scope\\\\nThe\\\\tinsurance\\\\tcoverage\\\\tapplies\\\\tworldwide.\\\\nArt. 101 \\\\nInsured Travel Events\\\\nInsurance\\\\tcoverage\\\\tis\\\\tprovided\\\\tfor\\\\tthe\\\\tfollowing:\\\\n\\\\u2022 \\\\tbooked\\\\tvacation \\\\tarrangements;\\\\n\\\\u2022 \\\\tmulti-day\\\\tlanguage\\\\tand\\\\tvacation\\\\tcourses\\\\twith\\\\tbooked\\\\t\\\\naccommodation;\\\\n\\\\u2022 \\\\tmulti-day\\\\tprofessional\\\\ttraining\\\\tcourses\\\\twith\\\\tbooked\\\\t\\\\n\\\\taccommodation;\\\\n\\\\u2022 \\\\tbooked\\\\tjourneys\\\\tby\\\\tair,\\\\ttrain\\\\tor\\\\tship;\\\\n\\\\u2022 \\\\tthe\\\\trenting\\\\tof\\\\ta\\\\thotel\\\\troom,\\\\tholiday\\\\tapartment,\\\\ta\\\\tboat,\\\\t \\\\na\\\\tcar\\\\tor\\\\ta\\\\tcamper\\\\tvan\\\\tor\\\\tparking\\\\tplace\\\\tfor\\\\tcamper\\\\tvans;\\\\u2022 \\\\tAttendance\\\\tof\\\\tone-time\\\\tevents\\\\tlike\\\\tconcerts\\\\tor\\\\ttheater\\\\t\\\\nperformances\\\\t(courses\\\\texcluded)\\\\twith\\\\ta\\\\tticket\\\\tprice\\\\t \\\\nper\\\\tperson\\\\tof\\\\tCHF\\\\t100\\\\tor\\\\tmore\\\\t(even\\\\twithout\\\\ta\\\\tbooked\\\\t\\\\ntravel\\\\tarrangement) \\\\t\\\\nof\\\\tthe\\\\tinsured\\\\tpersons,\\\\tirrespective\\\\tof\\\\twho\\\\tmade\\\\tthe\\\\t\\\\nbooking\\\\tor\\\\tbore\\\\tthe\\\\tcosts.\\\\tIn\\\\tcase\\\\tof\\\\tgroup\\\\ttravel\\\\tand\\\\t\\\\n\\\\tsocial\\\\toccasions,\\\\tthe\\\\tinsured\\\\tpersons\\\\tare\\\\tcovered\\\\tfor\\\\t \\\\nthe\\\\ttravel\\\\tportion.\\\\nArt. 102 \\\\nInsured Events\\\\nInsurance\\\\tcoverage\\\\twill\\\\tapply\\\\tif,\\\\tafter\\\\tthe\\\\tbooking\\\\tand\\\\t\\\\n\\\\tbefore\\\\tthe\\\\tjourney\\\\tcommences\\\\t(or\\\\tprior\\\\tto\\\\tthe\\\\tstart\\\\tof\\\\tthe\\\\t\\\\ncourse\\\\tstay,\\\\tthe\\\\trental\\\\tperiod\\\\tor\\\\tthe\\\\tevent),\\\\tthe\\\\tinsured\\\\t\\\\njourney\\\\tcannot\\\\tbe\\\\tmade\\\\tor\\\\tthe\\\\tinsured\\\\tevent\\\\tcannot\\\\tbe\\\\t\\\\n\\\\tattended \\\\tbecause:Zurich Relax Assistance\\\\n7\\\\n---------------------\\\\nGiven the context information and not prior knowledge, answer the query.\\\\nQuery: When are cancelation cost due?\\\\nAnswer: \"}], \"stream\": false, \"model\": \"gpt-3.5-turbo\", \"temperature\": 0.1, \"max_tokens\": null}' message='Post details'\n",
      "api_version=None data='{\"messages\": [{\"role\": \"system\", \"content\": \"You are an expert Q&A system that is trusted around the world.\\\\nAlways answer the query using the provided context information, and not prior knowledge.\\\\nSome rules to follow:\\\\n1. Never directly reference the given context in your answer.\\\\n2. Avoid statements like \\'Based on the context, ...\\' or \\'The context information ...\\' or anything along those lines.\"}, {\"role\": \"user\", \"content\": \"Context information is below.\\\\n---------------------\\\\npage_label: 6\\\\nfile_name: GCI Relax Assistance.pdf\\\\n\\\\nConsequences of delay\\\\nIf\\\\tthe\\\\tPolicyholder\\\\tis\\\\tunable\\\\tto\\\\tmeet\\\\tits\\\\tpayment\\\\tobliga -\\\\ntions,\\\\ta\\\\tpayment\\\\trequest\\\\tshall\\\\tbe\\\\tissued\\\\tand\\\\tthe\\\\tPolicy -\\\\nholder\\\\tshall\\\\tbe\\\\tliable\\\\tfor\\\\tthe\\\\tdunning\\\\tcosts\\\\tand\\\\tinterest\\\\t \\\\nin\\\\tarrears.Art. 5 \\\\nGeneral Exclusions\\\\nThe\\\\tcontract\\\\tdoes\\\\tnot\\\\tprovide\\\\tinsurance\\\\tcoverage\\\\tfor\\\\t\\\\nconsequences\\\\tin\\\\tconnection\\\\twith\\\\tthe\\\\tfollowing:\\\\n\\\\u2022 \\\\tcivil\\\\tunrest\\\\tof\\\\tall\\\\tkinds\\\\tas\\\\twell\\\\tas\\\\tnatural\\\\tand\\\\tenvironmen -\\\\ntal\\\\tdisasters,\\\\tacts\\\\tof\\\\twar\\\\tand\\\\tterrorism.\\\\tExceptions\\\\tfor\\\\t\\\\ncancellation\\\\tcosts\\\\t(Art.\\\\t 102.9\\\\tand\\\\t102.10)\\\\tand\\\\ttravel\\\\tinsur -\\\\nance\\\\t(Art.\\\\t 201.3)\\\\tare\\\\tcircumscribed;\\\\n\\\\u2022 \\\\tnuclear\\\\tfission,\\\\tnuclear\\\\tfusion,\\\\tradioactive\\\\tmaterial,\\\\tradio -\\\\nactive\\\\tcontamination,\\\\tnuclear\\\\texplosive\\\\tdevices\\\\tand\\\\tany\\\\t\\\\ntype\\\\tof\\\\tnuclear\\\\tweapon,\\\\tincluding\\\\tmeasures\\\\ttaken\\\\t\\\\nagainst\\\\tthese;\\\\n\\\\u2022 \\\\tparticipation\\\\tin\\\\traces,\\\\trallies\\\\tor\\\\tsimilar\\\\tcompetitive\\\\traces\\\\t\\\\nor\\\\ttraining\\\\tevents\\\\twith\\\\tmotor\\\\tvehicles,\\\\tsnowmobiles\\\\tor\\\\t\\\\nwatercraft\\\\ton\\\\tclosedoff\\\\tcourses;\\\\n\\\\u2022 \\\\tinsured\\\\tevents\\\\tthat\\\\thad\\\\talready\\\\toccurred\\\\tat\\\\tthe\\\\ttime\\\\tof\\\\t\\\\nbooking,\\\\tsubmission\\\\tof\\\\tapplication\\\\tor\\\\toffer\\\\tor\\\\twhen\\\\t \\\\nthe\\\\tcontract\\\\twas\\\\tconcluded\\\\tor\\\\twhose\\\\toccurrence\\\\twas\\\\t\\\\nforeseeable\\\\tat\\\\tthat\\\\ttime.\\\\tIn\\\\tcase\\\\tof\\\\ta\\\\tchronic\\\\tillness,\\\\t\\\\n\\\\tinsurance\\\\tcoverage\\\\tapplies\\\\tif\\\\tthe\\\\ttrip\\\\thas\\\\tto\\\\tbe\\\\tcanceled\\\\t\\\\ndue\\\\tto\\\\tan\\\\tunexpected\\\\tacute\\\\tworsening\\\\tof\\\\tthe\\\\tcondition\\\\t\\\\nwith\\\\tphysician\\\\tcertification.\\\\tThe\\\\tprerequisite\\\\tfor\\\\tcoverage\\\\t\\\\nis\\\\tthat\\\\tthe\\\\tperson\\\\u2019s\\\\thealth\\\\twas\\\\tstable\\\\tand\\\\the\\\\twas\\\\table\\\\t \\\\nto\\\\ttravel\\\\tat\\\\tthe\\\\ttime\\\\tof\\\\tbooking;\\\\n\\\\u2022 \\\\tbreach\\\\tof\\\\tstatutory\\\\trequirements\\\\t(e.\\\\t g.\\\\twithdrawal\\\\tof\\\\t\\\\n\\\\tdriving\\\\tlicense);\\\\n\\\\u2022 \\\\tcr ime s ;\\\\n\\\\u2022 \\\\tthird-party\\\\tclaims;\\\\n\\\\u2022 \\\\tdeductibles\\\\tfrom\\\\tother\\\\tinsurance\\\\tpolicies.\\\\nArt. 6 \\\\nEvent of a Claim\\\\nZurich\\\\tis\\\\tresponsible\\\\tfor\\\\torganizing\\\\tinsurable\\\\tbenefits.\\\\t \\\\nFor\\\\tnecessary\\\\tassistance\\\\tin\\\\trelation\\\\tto\\\\tclaims\\\\tof\\\\tdamages\\\\t\\\\nor\\\\tevent\\\\tloss,\\\\tZurich\\\\tmust\\\\tbe\\\\tnotified\\\\timmediately:\\\\tTele -\\\\nphone\\\\t0800\\\\t 80\\\\t80\\\\t80\\\\tor\\\\t+44\\\\t 628\\\\t98\\\\t98\\\\twhen\\\\tcalling\\\\tfrom\\\\t\\\\noutside\\\\tSwitzerland.\\\\nIn\\\\tthe\\\\tevent\\\\tof\\\\tlegal\\\\texpenses\\\\tinsurance\\\\tclaims,\\\\tArticles\\\\t\\\\n907\\\\tand\\\\t908\\\\tshall\\\\tapply.\\\\nThe\\\\tinsured\\\\tperson\\\\tis\\\\tobligated\\\\tto\\\\ttake\\\\tthe\\\\tnecessary\\\\t\\\\nmeasures\\\\tto\\\\tmitigate\\\\tlosses\\\\tand\\\\tfollow\\\\tZurich\\\\u2019s\\\\tor\\\\tOrion\\\\u2019s\\\\t\\\\ninstructions.\\\\nAscertaining the facts\\\\nThe\\\\tinsured\\\\tperson\\\\tmust\\\\tcooperate\\\\tin\\\\tinvestigating\\\\tthe\\\\t\\\\nfacts\\\\tand\\\\tprovide\\\\tZurich\\\\tand/or\\\\tOrion\\\\twith\\\\tall\\\\tthe\\\\tneces -\\\\nsary\\\\tinformation\\\\tand\\\\tdocumentation.\\\\tHe\\\\tshall\\\\tobtain\\\\tsuch\\\\t\\\\ninformation\\\\tfrom\\\\tthird\\\\tparties\\\\tfor\\\\tsubmission\\\\tto\\\\tZurich\\\\t \\\\nand/or\\\\tOrion,\\\\tand\\\\tauthorize\\\\tthird\\\\tparties\\\\tin\\\\twriting\\\\tto\\\\tissue\\\\t\\\\nthe\\\\tappropriate\\\\tinformation,\\\\tdocumentation,\\\\tetc.\\\\t to\\\\tZurich\\\\t\\\\nor\\\\tOrion.\\\\n\\\\npage_label: 7\\\\nfile_name: GCI Relax Assistance.pdf\\\\n\\\\nCancellation Costs\\\\nArt. 100 \\\\nTerritorial Scope\\\\nThe\\\\tinsurance\\\\tcoverage\\\\tapplies\\\\tworldwide.\\\\nArt. 101 \\\\nInsured Travel Events\\\\nInsurance\\\\tcoverage\\\\tis\\\\tprovided\\\\tfor\\\\tthe\\\\tfollowing:\\\\n\\\\u2022 \\\\tbooked\\\\tvacation \\\\tarrangements;\\\\n\\\\u2022 \\\\tmulti-day\\\\tlanguage\\\\tand\\\\tvacation\\\\tcourses\\\\twith\\\\tbooked\\\\t\\\\naccommodation;\\\\n\\\\u2022 \\\\tmulti-day\\\\tprofessional\\\\ttraining\\\\tcourses\\\\twith\\\\tbooked\\\\t\\\\n\\\\taccommodation;\\\\n\\\\u2022 \\\\tbooked\\\\tjourneys\\\\tby\\\\tair,\\\\ttrain\\\\tor\\\\tship;\\\\n\\\\u2022 \\\\tthe\\\\trenting\\\\tof\\\\ta\\\\thotel\\\\troom,\\\\tholiday\\\\tapartment,\\\\ta\\\\tboat,\\\\t \\\\na\\\\tcar\\\\tor\\\\ta\\\\tcamper\\\\tvan\\\\tor\\\\tparking\\\\tplace\\\\tfor\\\\tcamper\\\\tvans;\\\\u2022 \\\\tAttendance\\\\tof\\\\tone-time\\\\tevents\\\\tlike\\\\tconcerts\\\\tor\\\\ttheater\\\\t\\\\nperformances\\\\t(courses\\\\texcluded)\\\\twith\\\\ta\\\\tticket\\\\tprice\\\\t \\\\nper\\\\tperson\\\\tof\\\\tCHF\\\\t100\\\\tor\\\\tmore\\\\t(even\\\\twithout\\\\ta\\\\tbooked\\\\t\\\\ntravel\\\\tarrangement) \\\\t\\\\nof\\\\tthe\\\\tinsured\\\\tpersons,\\\\tirrespective\\\\tof\\\\twho\\\\tmade\\\\tthe\\\\t\\\\nbooking\\\\tor\\\\tbore\\\\tthe\\\\tcosts.\\\\tIn\\\\tcase\\\\tof\\\\tgroup\\\\ttravel\\\\tand\\\\t\\\\n\\\\tsocial\\\\toccasions,\\\\tthe\\\\tinsured\\\\tpersons\\\\tare\\\\tcovered\\\\tfor\\\\t \\\\nthe\\\\ttravel\\\\tportion.\\\\nArt. 102 \\\\nInsured Events\\\\nInsurance\\\\tcoverage\\\\twill\\\\tapply\\\\tif,\\\\tafter\\\\tthe\\\\tbooking\\\\tand\\\\t\\\\n\\\\tbefore\\\\tthe\\\\tjourney\\\\tcommences\\\\t(or\\\\tprior\\\\tto\\\\tthe\\\\tstart\\\\tof\\\\tthe\\\\t\\\\ncourse\\\\tstay,\\\\tthe\\\\trental\\\\tperiod\\\\tor\\\\tthe\\\\tevent),\\\\tthe\\\\tinsured\\\\t\\\\njourney\\\\tcannot\\\\tbe\\\\tmade\\\\tor\\\\tthe\\\\tinsured\\\\tevent\\\\tcannot\\\\tbe\\\\t\\\\n\\\\tattended \\\\tbecause:Zurich Relax Assistance\\\\n7\\\\n---------------------\\\\nGiven the context information and not prior knowledge, answer the query.\\\\nQuery: When are cancelation cost due?\\\\nAnswer: \"}], \"stream\": false, \"model\": \"gpt-3.5-turbo\", \"temperature\": 0.1, \"max_tokens\": null}' message='Post details'\n",
      "api_version=None data='{\"messages\": [{\"role\": \"system\", \"content\": \"You are an expert Q&A system that is trusted around the world.\\\\nAlways answer the query using the provided context information, and not prior knowledge.\\\\nSome rules to follow:\\\\n1. Never directly reference the given context in your answer.\\\\n2. Avoid statements like \\'Based on the context, ...\\' or \\'The context information ...\\' or anything along those lines.\"}, {\"role\": \"user\", \"content\": \"Context information is below.\\\\n---------------------\\\\npage_label: 6\\\\nfile_name: GCI Relax Assistance.pdf\\\\n\\\\nConsequences of delay\\\\nIf\\\\tthe\\\\tPolicyholder\\\\tis\\\\tunable\\\\tto\\\\tmeet\\\\tits\\\\tpayment\\\\tobliga -\\\\ntions,\\\\ta\\\\tpayment\\\\trequest\\\\tshall\\\\tbe\\\\tissued\\\\tand\\\\tthe\\\\tPolicy -\\\\nholder\\\\tshall\\\\tbe\\\\tliable\\\\tfor\\\\tthe\\\\tdunning\\\\tcosts\\\\tand\\\\tinterest\\\\t \\\\nin\\\\tarrears.Art. 5 \\\\nGeneral Exclusions\\\\nThe\\\\tcontract\\\\tdoes\\\\tnot\\\\tprovide\\\\tinsurance\\\\tcoverage\\\\tfor\\\\t\\\\nconsequences\\\\tin\\\\tconnection\\\\twith\\\\tthe\\\\tfollowing:\\\\n\\\\u2022 \\\\tcivil\\\\tunrest\\\\tof\\\\tall\\\\tkinds\\\\tas\\\\twell\\\\tas\\\\tnatural\\\\tand\\\\tenvironmen -\\\\ntal\\\\tdisasters,\\\\tacts\\\\tof\\\\twar\\\\tand\\\\tterrorism.\\\\tExceptions\\\\tfor\\\\t\\\\ncancellation\\\\tcosts\\\\t(Art.\\\\t 102.9\\\\tand\\\\t102.10)\\\\tand\\\\ttravel\\\\tinsur -\\\\nance\\\\t(Art.\\\\t 201.3)\\\\tare\\\\tcircumscribed;\\\\n\\\\u2022 \\\\tnuclear\\\\tfission,\\\\tnuclear\\\\tfusion,\\\\tradioactive\\\\tmaterial,\\\\tradio -\\\\nactive\\\\tcontamination,\\\\tnuclear\\\\texplosive\\\\tdevices\\\\tand\\\\tany\\\\t\\\\ntype\\\\tof\\\\tnuclear\\\\tweapon,\\\\tincluding\\\\tmeasures\\\\ttaken\\\\t\\\\nagainst\\\\tthese;\\\\n\\\\u2022 \\\\tparticipation\\\\tin\\\\traces,\\\\trallies\\\\tor\\\\tsimilar\\\\tcompetitive\\\\traces\\\\t\\\\nor\\\\ttraining\\\\tevents\\\\twith\\\\tmotor\\\\tvehicles,\\\\tsnowmobiles\\\\tor\\\\t\\\\nwatercraft\\\\ton\\\\tclosedoff\\\\tcourses;\\\\n\\\\u2022 \\\\tinsured\\\\tevents\\\\tthat\\\\thad\\\\talready\\\\toccurred\\\\tat\\\\tthe\\\\ttime\\\\tof\\\\t\\\\nbooking,\\\\tsubmission\\\\tof\\\\tapplication\\\\tor\\\\toffer\\\\tor\\\\twhen\\\\t \\\\nthe\\\\tcontract\\\\twas\\\\tconcluded\\\\tor\\\\twhose\\\\toccurrence\\\\twas\\\\t\\\\nforeseeable\\\\tat\\\\tthat\\\\ttime.\\\\tIn\\\\tcase\\\\tof\\\\ta\\\\tchronic\\\\tillness,\\\\t\\\\n\\\\tinsurance\\\\tcoverage\\\\tapplies\\\\tif\\\\tthe\\\\ttrip\\\\thas\\\\tto\\\\tbe\\\\tcanceled\\\\t\\\\ndue\\\\tto\\\\tan\\\\tunexpected\\\\tacute\\\\tworsening\\\\tof\\\\tthe\\\\tcondition\\\\t\\\\nwith\\\\tphysician\\\\tcertification.\\\\tThe\\\\tprerequisite\\\\tfor\\\\tcoverage\\\\t\\\\nis\\\\tthat\\\\tthe\\\\tperson\\\\u2019s\\\\thealth\\\\twas\\\\tstable\\\\tand\\\\the\\\\twas\\\\table\\\\t \\\\nto\\\\ttravel\\\\tat\\\\tthe\\\\ttime\\\\tof\\\\tbooking;\\\\n\\\\u2022 \\\\tbreach\\\\tof\\\\tstatutory\\\\trequirements\\\\t(e.\\\\t g.\\\\twithdrawal\\\\tof\\\\t\\\\n\\\\tdriving\\\\tlicense);\\\\n\\\\u2022 \\\\tcr ime s ;\\\\n\\\\u2022 \\\\tthird-party\\\\tclaims;\\\\n\\\\u2022 \\\\tdeductibles\\\\tfrom\\\\tother\\\\tinsurance\\\\tpolicies.\\\\nArt. 6 \\\\nEvent of a Claim\\\\nZurich\\\\tis\\\\tresponsible\\\\tfor\\\\torganizing\\\\tinsurable\\\\tbenefits.\\\\t \\\\nFor\\\\tnecessary\\\\tassistance\\\\tin\\\\trelation\\\\tto\\\\tclaims\\\\tof\\\\tdamages\\\\t\\\\nor\\\\tevent\\\\tloss,\\\\tZurich\\\\tmust\\\\tbe\\\\tnotified\\\\timmediately:\\\\tTele -\\\\nphone\\\\t0800\\\\t 80\\\\t80\\\\t80\\\\tor\\\\t+44\\\\t 628\\\\t98\\\\t98\\\\twhen\\\\tcalling\\\\tfrom\\\\t\\\\noutside\\\\tSwitzerland.\\\\nIn\\\\tthe\\\\tevent\\\\tof\\\\tlegal\\\\texpenses\\\\tinsurance\\\\tclaims,\\\\tArticles\\\\t\\\\n907\\\\tand\\\\t908\\\\tshall\\\\tapply.\\\\nThe\\\\tinsured\\\\tperson\\\\tis\\\\tobligated\\\\tto\\\\ttake\\\\tthe\\\\tnecessary\\\\t\\\\nmeasures\\\\tto\\\\tmitigate\\\\tlosses\\\\tand\\\\tfollow\\\\tZurich\\\\u2019s\\\\tor\\\\tOrion\\\\u2019s\\\\t\\\\ninstructions.\\\\nAscertaining the facts\\\\nThe\\\\tinsured\\\\tperson\\\\tmust\\\\tcooperate\\\\tin\\\\tinvestigating\\\\tthe\\\\t\\\\nfacts\\\\tand\\\\tprovide\\\\tZurich\\\\tand/or\\\\tOrion\\\\twith\\\\tall\\\\tthe\\\\tneces -\\\\nsary\\\\tinformation\\\\tand\\\\tdocumentation.\\\\tHe\\\\tshall\\\\tobtain\\\\tsuch\\\\t\\\\ninformation\\\\tfrom\\\\tthird\\\\tparties\\\\tfor\\\\tsubmission\\\\tto\\\\tZurich\\\\t \\\\nand/or\\\\tOrion,\\\\tand\\\\tauthorize\\\\tthird\\\\tparties\\\\tin\\\\twriting\\\\tto\\\\tissue\\\\t\\\\nthe\\\\tappropriate\\\\tinformation,\\\\tdocumentation,\\\\tetc.\\\\t to\\\\tZurich\\\\t\\\\nor\\\\tOrion.\\\\n\\\\npage_label: 7\\\\nfile_name: GCI Relax Assistance.pdf\\\\n\\\\nCancellation Costs\\\\nArt. 100 \\\\nTerritorial Scope\\\\nThe\\\\tinsurance\\\\tcoverage\\\\tapplies\\\\tworldwide.\\\\nArt. 101 \\\\nInsured Travel Events\\\\nInsurance\\\\tcoverage\\\\tis\\\\tprovided\\\\tfor\\\\tthe\\\\tfollowing:\\\\n\\\\u2022 \\\\tbooked\\\\tvacation \\\\tarrangements;\\\\n\\\\u2022 \\\\tmulti-day\\\\tlanguage\\\\tand\\\\tvacation\\\\tcourses\\\\twith\\\\tbooked\\\\t\\\\naccommodation;\\\\n\\\\u2022 \\\\tmulti-day\\\\tprofessional\\\\ttraining\\\\tcourses\\\\twith\\\\tbooked\\\\t\\\\n\\\\taccommodation;\\\\n\\\\u2022 \\\\tbooked\\\\tjourneys\\\\tby\\\\tair,\\\\ttrain\\\\tor\\\\tship;\\\\n\\\\u2022 \\\\tthe\\\\trenting\\\\tof\\\\ta\\\\thotel\\\\troom,\\\\tholiday\\\\tapartment,\\\\ta\\\\tboat,\\\\t \\\\na\\\\tcar\\\\tor\\\\ta\\\\tcamper\\\\tvan\\\\tor\\\\tparking\\\\tplace\\\\tfor\\\\tcamper\\\\tvans;\\\\u2022 \\\\tAttendance\\\\tof\\\\tone-time\\\\tevents\\\\tlike\\\\tconcerts\\\\tor\\\\ttheater\\\\t\\\\nperformances\\\\t(courses\\\\texcluded)\\\\twith\\\\ta\\\\tticket\\\\tprice\\\\t \\\\nper\\\\tperson\\\\tof\\\\tCHF\\\\t100\\\\tor\\\\tmore\\\\t(even\\\\twithout\\\\ta\\\\tbooked\\\\t\\\\ntravel\\\\tarrangement) \\\\t\\\\nof\\\\tthe\\\\tinsured\\\\tpersons,\\\\tirrespective\\\\tof\\\\twho\\\\tmade\\\\tthe\\\\t\\\\nbooking\\\\tor\\\\tbore\\\\tthe\\\\tcosts.\\\\tIn\\\\tcase\\\\tof\\\\tgroup\\\\ttravel\\\\tand\\\\t\\\\n\\\\tsocial\\\\toccasions,\\\\tthe\\\\tinsured\\\\tpersons\\\\tare\\\\tcovered\\\\tfor\\\\t \\\\nthe\\\\ttravel\\\\tportion.\\\\nArt. 102 \\\\nInsured Events\\\\nInsurance\\\\tcoverage\\\\twill\\\\tapply\\\\tif,\\\\tafter\\\\tthe\\\\tbooking\\\\tand\\\\t\\\\n\\\\tbefore\\\\tthe\\\\tjourney\\\\tcommences\\\\t(or\\\\tprior\\\\tto\\\\tthe\\\\tstart\\\\tof\\\\tthe\\\\t\\\\ncourse\\\\tstay,\\\\tthe\\\\trental\\\\tperiod\\\\tor\\\\tthe\\\\tevent),\\\\tthe\\\\tinsured\\\\t\\\\njourney\\\\tcannot\\\\tbe\\\\tmade\\\\tor\\\\tthe\\\\tinsured\\\\tevent\\\\tcannot\\\\tbe\\\\t\\\\n\\\\tattended \\\\tbecause:Zurich Relax Assistance\\\\n7\\\\n---------------------\\\\nGiven the context information and not prior knowledge, answer the query.\\\\nQuery: When are cancelation cost due?\\\\nAnswer: \"}], \"stream\": false, \"model\": \"gpt-3.5-turbo\", \"temperature\": 0.1, \"max_tokens\": null}' message='Post details'\n",
      "DEBUG:urllib3.connectionpool:https://api.openai.com:443 \"POST /v1/chat/completions HTTP/1.1\" 200 None\n",
      "https://api.openai.com:443 \"POST /v1/chat/completions HTTP/1.1\" 200 None\n",
      "https://api.openai.com:443 \"POST /v1/chat/completions HTTP/1.1\" 200 None\n",
      "DEBUG:openai:message='OpenAI API response' path=https://api.openai.com/v1/chat/completions processing_ms=1532 request_id=c436f81a68e22b65d33fa267d9b872a7 response_code=200\n",
      "message='OpenAI API response' path=https://api.openai.com/v1/chat/completions processing_ms=1532 request_id=c436f81a68e22b65d33fa267d9b872a7 response_code=200\n",
      "message='OpenAI API response' path=https://api.openai.com/v1/chat/completions processing_ms=1532 request_id=c436f81a68e22b65d33fa267d9b872a7 response_code=200\n",
      "DEBUG:llama_index.llm_predictor.base:Cancellation costs are due when the insured journey cannot be made or the insured event cannot be attended after the booking and before the journey commences, the course stay, the rental period, or the event.\n",
      "Cancellation costs are due when the insured journey cannot be made or the insured event cannot be attended after the booking and before the journey commences, the course stay, the rental period, or the event.\n",
      "Cancellation costs are due when the insured journey cannot be made or the insured event cannot be attended after the booking and before the journey commences, the course stay, the rental period, or the event.\n"
     ]
    },
    {
     "data": {
      "text/markdown": [
       "<b>Cancellation costs are due when the insured journey cannot be made or the insured event cannot be attended after the booking and before the journey commences, the course stay, the rental period, or the event.</b>"
      ],
      "text/plain": [
       "<IPython.core.display.Markdown object>"
      ]
     },
     "metadata": {},
     "output_type": "display_data"
    }
   ],
   "source": [
    "from IPython.display import Markdown, display\n",
    "\n",
    "query_engine = index.as_query_engine()\n",
    "response = query_engine.query(\"When are cancelation cost due?\")\n",
    "display(Markdown(f\"<b>{response}</b>\"))"
   ]
  },
  {
   "cell_type": "code",
   "execution_count": 13,
   "metadata": {},
   "outputs": [
    {
     "name": "stdout",
     "output_type": "stream",
     "text": [
      "DEBUG:fsspec.local:open file: /home/mverkerk/workspace/hackzurich2023-zurichinsurance/backend-ai/storage/docstore.json\n",
      "open file: /home/mverkerk/workspace/hackzurich2023-zurichinsurance/backend-ai/storage/docstore.json\n",
      "open file: /home/mverkerk/workspace/hackzurich2023-zurichinsurance/backend-ai/storage/docstore.json\n",
      "DEBUG:fsspec.local:open file: /home/mverkerk/workspace/hackzurich2023-zurichinsurance/backend-ai/storage/index_store.json\n",
      "open file: /home/mverkerk/workspace/hackzurich2023-zurichinsurance/backend-ai/storage/index_store.json\n",
      "open file: /home/mverkerk/workspace/hackzurich2023-zurichinsurance/backend-ai/storage/index_store.json\n",
      "DEBUG:fsspec.local:open file: /home/mverkerk/workspace/hackzurich2023-zurichinsurance/backend-ai/storage/vector_store.json\n",
      "open file: /home/mverkerk/workspace/hackzurich2023-zurichinsurance/backend-ai/storage/vector_store.json\n",
      "open file: /home/mverkerk/workspace/hackzurich2023-zurichinsurance/backend-ai/storage/vector_store.json\n",
      "DEBUG:fsspec.local:open file: /home/mverkerk/workspace/hackzurich2023-zurichinsurance/backend-ai/storage/graph_store.json\n",
      "open file: /home/mverkerk/workspace/hackzurich2023-zurichinsurance/backend-ai/storage/graph_store.json\n",
      "open file: /home/mverkerk/workspace/hackzurich2023-zurichinsurance/backend-ai/storage/graph_store.json\n"
     ]
    }
   ],
   "source": [
    "index.storage_context.persist()"
   ]
  },
  {
   "cell_type": "code",
   "execution_count": 3,
   "metadata": {},
   "outputs": [
    {
     "name": "stdout",
     "output_type": "stream",
     "text": [
      "INFO:numexpr.utils:NumExpr defaulting to 8 threads.\n",
      "NumExpr defaulting to 8 threads.\n",
      "INFO:llama_index.indices.loading:Loading all indices.\n",
      "Loading all indices.\n"
     ]
    }
   ],
   "source": [
    "from llama_index import StorageContext, load_index_from_storage\n",
    "\n",
    "# rebuild storage context\n",
    "storage_context = StorageContext.from_defaults(persist_dir=\"./storage\")\n",
    "# load index\n",
    "index = load_index_from_storage(storage_context)"
   ]
  },
  {
   "cell_type": "code",
   "execution_count": 4,
   "metadata": {},
   "outputs": [],
   "source": [
    "chat_engine = index.as_chat_engine()"
   ]
  },
  {
   "cell_type": "code",
   "execution_count": 7,
   "metadata": {},
   "outputs": [
    {
     "data": {
      "text/markdown": [
       "<b>Yes, you are covered for a car breakdown on the highway. Your insurance policy includes coverage for situations where your vehicle can no longer be used as a result of a breakdown. This coverage includes scenarios such as the key being locked inside the car, the electronic locking device not functioning properly, or the key or lock being damaged.</b>"
      ],
      "text/plain": [
       "<IPython.core.display.Markdown object>"
      ]
     },
     "metadata": {},
     "output_type": "display_data"
    }
   ],
   "source": [
    "context = \"You are an insurance assistant at Zurich insurance company. You help customers with all questions related to their policies. Look in the provided General Conditions, and make use of their policies to find the right information according to their subscription\"\n",
    "response = chat_engine.chat(\"My car just stopped working on the highway. Am I covered on this?\")\n",
    "display(Markdown(f\"<b>{response}</b>\"))"
   ]
  },
  {
   "cell_type": "code",
   "execution_count": null,
   "metadata": {},
   "outputs": [],
   "source": []
  }
 ],
 "metadata": {
  "kernelspec": {
   "display_name": "Python 3 (ipykernel)",
   "language": "python",
   "name": "python3"
  },
  "language_info": {
   "codemirror_mode": {
    "name": "ipython",
    "version": 3
   },
   "file_extension": ".py",
   "mimetype": "text/x-python",
   "name": "python",
   "nbconvert_exporter": "python",
   "pygments_lexer": "ipython3",
   "version": "3.8.10"
  }
 },
 "nbformat": 4,
 "nbformat_minor": 4
}
